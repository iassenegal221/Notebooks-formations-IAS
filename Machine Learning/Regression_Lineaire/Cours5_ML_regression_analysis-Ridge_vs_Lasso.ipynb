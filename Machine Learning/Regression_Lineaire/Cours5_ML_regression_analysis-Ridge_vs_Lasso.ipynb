{
 "cells": [
  {
   "cell_type": "markdown",
   "metadata": {
    "id": "LLXhQi84S3Wc"
   },
   "source": [
    "## Institut des Algorithmes du Sénégal\n",
    "\n",
    "## Insurance Forecast using Regression models"
   ]
  },
  {
   "cell_type": "markdown",
   "metadata": {
    "id": "PetbawDxS3Wg"
   },
   "source": [
    "### Different regression models that we will consider:\n",
    "\n",
    "Regression analysis is a technique we can use to understand the relationship between one or more predictor variables and a response variable. \n",
    "\n",
    "- Linear Regression\n",
    "- Polynomial Regression\n",
    "- Ridge Regression\n",
    "- Lasso Regression\n",
    "- Support Vector Regression\n",
    "- Decision Tree Regression\n",
    "- Random Forest Regression"
   ]
  },
  {
   "cell_type": "code",
   "execution_count": 20,
   "metadata": {
    "executionInfo": {
     "elapsed": 326,
     "status": "ok",
     "timestamp": 1645278634897,
     "user": {
      "displayName": "DIA NDIAYE",
      "photoUrl": "https://lh3.googleusercontent.com/a/default-user=s64",
      "userId": "14376495217298928341"
     },
     "user_tz": -60
    },
    "id": "SjQU6HNYS3Wg"
   },
   "outputs": [],
   "source": [
    "# importing libraries\n",
    "\n",
    "import numpy as np # data manipulation\n",
    "import pandas as pd # data manipulation\n",
    "import matplotlib.pyplot as plt # data visualization\n",
    "import seaborn as sns # data visualization\n",
    "%matplotlib inline"
   ]
  },
  {
   "cell_type": "code",
   "execution_count": 21,
   "metadata": {
    "colab": {
     "base_uri": "https://localhost:8080/",
     "height": 206
    },
    "executionInfo": {
     "elapsed": 302,
     "status": "ok",
     "timestamp": 1645278635672,
     "user": {
      "displayName": "DIA NDIAYE",
      "photoUrl": "https://lh3.googleusercontent.com/a/default-user=s64",
      "userId": "14376495217298928341"
     },
     "user_tz": -60
    },
    "id": "MsOHv7QqS3Wi",
    "outputId": "1afc2873-98af-4343-910f-9532f7a8c34d"
   },
   "outputs": [
    {
     "data": {
      "text/html": [
       "<div>\n",
       "<style scoped>\n",
       "    .dataframe tbody tr th:only-of-type {\n",
       "        vertical-align: middle;\n",
       "    }\n",
       "\n",
       "    .dataframe tbody tr th {\n",
       "        vertical-align: top;\n",
       "    }\n",
       "\n",
       "    .dataframe thead th {\n",
       "        text-align: right;\n",
       "    }\n",
       "</style>\n",
       "<table border=\"1\" class=\"dataframe\">\n",
       "  <thead>\n",
       "    <tr style=\"text-align: right;\">\n",
       "      <th></th>\n",
       "      <th>age</th>\n",
       "      <th>sex</th>\n",
       "      <th>bmi</th>\n",
       "      <th>children</th>\n",
       "      <th>smoker</th>\n",
       "      <th>region</th>\n",
       "      <th>charges</th>\n",
       "    </tr>\n",
       "  </thead>\n",
       "  <tbody>\n",
       "    <tr>\n",
       "      <th>0</th>\n",
       "      <td>19</td>\n",
       "      <td>female</td>\n",
       "      <td>27.900</td>\n",
       "      <td>0</td>\n",
       "      <td>yes</td>\n",
       "      <td>southwest</td>\n",
       "      <td>16884.92400</td>\n",
       "    </tr>\n",
       "    <tr>\n",
       "      <th>1</th>\n",
       "      <td>18</td>\n",
       "      <td>male</td>\n",
       "      <td>33.770</td>\n",
       "      <td>1</td>\n",
       "      <td>no</td>\n",
       "      <td>southeast</td>\n",
       "      <td>1725.55230</td>\n",
       "    </tr>\n",
       "    <tr>\n",
       "      <th>2</th>\n",
       "      <td>28</td>\n",
       "      <td>male</td>\n",
       "      <td>33.000</td>\n",
       "      <td>3</td>\n",
       "      <td>no</td>\n",
       "      <td>southeast</td>\n",
       "      <td>4449.46200</td>\n",
       "    </tr>\n",
       "    <tr>\n",
       "      <th>3</th>\n",
       "      <td>33</td>\n",
       "      <td>male</td>\n",
       "      <td>22.705</td>\n",
       "      <td>0</td>\n",
       "      <td>no</td>\n",
       "      <td>northwest</td>\n",
       "      <td>21984.47061</td>\n",
       "    </tr>\n",
       "    <tr>\n",
       "      <th>4</th>\n",
       "      <td>32</td>\n",
       "      <td>male</td>\n",
       "      <td>28.880</td>\n",
       "      <td>0</td>\n",
       "      <td>no</td>\n",
       "      <td>northwest</td>\n",
       "      <td>3866.85520</td>\n",
       "    </tr>\n",
       "  </tbody>\n",
       "</table>\n",
       "</div>"
      ],
      "text/plain": [
       "   age     sex     bmi  children smoker     region      charges\n",
       "0   19  female  27.900         0    yes  southwest  16884.92400\n",
       "1   18    male  33.770         1     no  southeast   1725.55230\n",
       "2   28    male  33.000         3     no  southeast   4449.46200\n",
       "3   33    male  22.705         0     no  northwest  21984.47061\n",
       "4   32    male  28.880         0     no  northwest   3866.85520"
      ]
     },
     "execution_count": 21,
     "metadata": {},
     "output_type": "execute_result"
    }
   ],
   "source": [
    "# importing the dataset\n",
    "df = pd.read_csv('insurance.csv')\n",
    "\n",
    "# viewing top 5 rows\n",
    "df.head()"
   ]
  },
  {
   "cell_type": "markdown",
   "metadata": {
    "id": "G2M1QH2pS3Wj"
   },
   "source": [
    "Overviewing Columns:\n",
    "\n",
    "- age: age of primary beneficiary\n",
    "- sex:  gender..female, male\n",
    "- bmi: body mass index, providing an understanding of body, weights that are relatively high or low relative to   height, objective index of body weight (kg / m ^ 2) using the ratio of height to weight, ideally 18.5 to 24.9\n",
    "- children: number of children covered by health insurance / number of dependents\n",
    "- smoker: smoking\n",
    "- region: the beneficiary's residential area.\n",
    "- charges: individual medical costs billed by health insurance."
   ]
  },
  {
   "cell_type": "markdown",
   "metadata": {
    "id": "GS45D6mBS3Wm"
   },
   "source": [
    "## One-Hot encoding\n",
    "\n"
   ]
  },
  {
   "cell_type": "code",
   "execution_count": 22,
   "metadata": {
    "executionInfo": {
     "elapsed": 13,
     "status": "ok",
     "timestamp": 1645278635676,
     "user": {
      "displayName": "DIA NDIAYE",
      "photoUrl": "https://lh3.googleusercontent.com/a/default-user=s64",
      "userId": "14376495217298928341"
     },
     "user_tz": -60
    },
    "id": "SkTPjOZDS3Wm"
   },
   "outputs": [],
   "source": [
    "# encoding\n",
    "Male = pd.get_dummies(df['sex'], drop_first=True)\n",
    "df = pd.concat([df, Male], axis=1 )\n",
    "\n",
    "smoker = pd.get_dummies(df['smoker'], drop_first=True)\n",
    "df = pd.concat([df, smoker], axis=1 )\n",
    "\n",
    "region = pd.get_dummies(df['region'])\n",
    "df = pd.concat([df, region], axis=1 )"
   ]
  },
  {
   "cell_type": "code",
   "execution_count": 23,
   "metadata": {
    "colab": {
     "base_uri": "https://localhost:8080/",
     "height": 206
    },
    "executionInfo": {
     "elapsed": 13,
     "status": "ok",
     "timestamp": 1645278635677,
     "user": {
      "displayName": "DIA NDIAYE",
      "photoUrl": "https://lh3.googleusercontent.com/a/default-user=s64",
      "userId": "14376495217298928341"
     },
     "user_tz": -60
    },
    "id": "Bym0hZM2S3Wn",
    "outputId": "67548be4-bcd7-44cb-81b3-5f5d0155d988"
   },
   "outputs": [
    {
     "data": {
      "text/html": [
       "<div>\n",
       "<style scoped>\n",
       "    .dataframe tbody tr th:only-of-type {\n",
       "        vertical-align: middle;\n",
       "    }\n",
       "\n",
       "    .dataframe tbody tr th {\n",
       "        vertical-align: top;\n",
       "    }\n",
       "\n",
       "    .dataframe thead th {\n",
       "        text-align: right;\n",
       "    }\n",
       "</style>\n",
       "<table border=\"1\" class=\"dataframe\">\n",
       "  <thead>\n",
       "    <tr style=\"text-align: right;\">\n",
       "      <th></th>\n",
       "      <th>age</th>\n",
       "      <th>sex</th>\n",
       "      <th>bmi</th>\n",
       "      <th>children</th>\n",
       "      <th>smoker</th>\n",
       "      <th>region</th>\n",
       "      <th>charges</th>\n",
       "      <th>male</th>\n",
       "      <th>yes</th>\n",
       "      <th>northeast</th>\n",
       "      <th>northwest</th>\n",
       "      <th>southeast</th>\n",
       "      <th>southwest</th>\n",
       "    </tr>\n",
       "  </thead>\n",
       "  <tbody>\n",
       "    <tr>\n",
       "      <th>0</th>\n",
       "      <td>19</td>\n",
       "      <td>female</td>\n",
       "      <td>27.900</td>\n",
       "      <td>0</td>\n",
       "      <td>yes</td>\n",
       "      <td>southwest</td>\n",
       "      <td>16884.92400</td>\n",
       "      <td>0</td>\n",
       "      <td>1</td>\n",
       "      <td>0</td>\n",
       "      <td>0</td>\n",
       "      <td>0</td>\n",
       "      <td>1</td>\n",
       "    </tr>\n",
       "    <tr>\n",
       "      <th>1</th>\n",
       "      <td>18</td>\n",
       "      <td>male</td>\n",
       "      <td>33.770</td>\n",
       "      <td>1</td>\n",
       "      <td>no</td>\n",
       "      <td>southeast</td>\n",
       "      <td>1725.55230</td>\n",
       "      <td>1</td>\n",
       "      <td>0</td>\n",
       "      <td>0</td>\n",
       "      <td>0</td>\n",
       "      <td>1</td>\n",
       "      <td>0</td>\n",
       "    </tr>\n",
       "    <tr>\n",
       "      <th>2</th>\n",
       "      <td>28</td>\n",
       "      <td>male</td>\n",
       "      <td>33.000</td>\n",
       "      <td>3</td>\n",
       "      <td>no</td>\n",
       "      <td>southeast</td>\n",
       "      <td>4449.46200</td>\n",
       "      <td>1</td>\n",
       "      <td>0</td>\n",
       "      <td>0</td>\n",
       "      <td>0</td>\n",
       "      <td>1</td>\n",
       "      <td>0</td>\n",
       "    </tr>\n",
       "    <tr>\n",
       "      <th>3</th>\n",
       "      <td>33</td>\n",
       "      <td>male</td>\n",
       "      <td>22.705</td>\n",
       "      <td>0</td>\n",
       "      <td>no</td>\n",
       "      <td>northwest</td>\n",
       "      <td>21984.47061</td>\n",
       "      <td>1</td>\n",
       "      <td>0</td>\n",
       "      <td>0</td>\n",
       "      <td>1</td>\n",
       "      <td>0</td>\n",
       "      <td>0</td>\n",
       "    </tr>\n",
       "    <tr>\n",
       "      <th>4</th>\n",
       "      <td>32</td>\n",
       "      <td>male</td>\n",
       "      <td>28.880</td>\n",
       "      <td>0</td>\n",
       "      <td>no</td>\n",
       "      <td>northwest</td>\n",
       "      <td>3866.85520</td>\n",
       "      <td>1</td>\n",
       "      <td>0</td>\n",
       "      <td>0</td>\n",
       "      <td>1</td>\n",
       "      <td>0</td>\n",
       "      <td>0</td>\n",
       "    </tr>\n",
       "  </tbody>\n",
       "</table>\n",
       "</div>"
      ],
      "text/plain": [
       "   age     sex     bmi  children smoker     region      charges  male  yes  \\\n",
       "0   19  female  27.900         0    yes  southwest  16884.92400     0    1   \n",
       "1   18    male  33.770         1     no  southeast   1725.55230     1    0   \n",
       "2   28    male  33.000         3     no  southeast   4449.46200     1    0   \n",
       "3   33    male  22.705         0     no  northwest  21984.47061     1    0   \n",
       "4   32    male  28.880         0     no  northwest   3866.85520     1    0   \n",
       "\n",
       "   northeast  northwest  southeast  southwest  \n",
       "0          0          0          0          1  \n",
       "1          0          0          1          0  \n",
       "2          0          0          1          0  \n",
       "3          0          1          0          0  \n",
       "4          0          1          0          0  "
      ]
     },
     "execution_count": 23,
     "metadata": {},
     "output_type": "execute_result"
    }
   ],
   "source": [
    "df.head()"
   ]
  },
  {
   "cell_type": "markdown",
   "metadata": {
    "id": "dzKWOnGsh9xf"
   },
   "source": [
    "## Regularization\n",
    "\n",
    "## 1. Lasso Regresson : \n",
    "\n",
    "In linear regression, the optimization function or loss function is known as the residual sum of squares (RSS), which is used to define and measure the error of the model.\n",
    "\n",
    "La régression Ridge optimise le problème qui suit :\n",
    "\n",
    "![image.png](data:image/png;base64,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)\n",
    "\n",
    "La solution de ctte équation s'exprime:\n",
    "\n",
    "![image.png](data:image/png;base64,iVBORw0KGgoAAAANSUhEUgAAAP0AAABICAYAAAA9MvM6AAAGsElEQVR4nO3c7ZGrLBgGYDowHZgOtAPTgemAdEAJpgO3A9KB24HbASVQAiU87493YF0Dxm+Tw33NZM5sPkwC3viA5jACgKiwoz8AAOwLoQeIDEIPEBmEHiAyCD1AZBB6gMgg9ACRQegBIoPQA0QGoQeIDEIPEBmEHiAyCD1AZBB6gMgg9ACRQegBIoPQA0QGoQeIDEIPEBmEHiAyCD1AZBB6gMgg9ACRQegBIoPQA0QGoQeIDEIPEBmEHiAyCD1AZBB6gMgg9ACRQejhY9V1TVVVUVEUR3+Uj4LQBxhjVt9mWZYkpVx9u5/EGLNq27Ztu2nopZR0vV432/4Rdg1927b08/Pj7XSlFDVNs+fHCWrbdvXPorUmxtjbfMcjCSFWC/7Woc+yjDjnm23/CLuEXilFVVWRUoq01sQ5J6WUe6xtWxc0+/dRlFIkhPA+ZoyhsiwpSRJijFGapn9CbIyhNE3dY2VZusfquqY0Tb3bbZqGiqIgxhgxxijLMtJa/3ncvmdRFB8xcHDOXVtkWUZlWbqg23Zcw5jQV1VFWZa59u2/d1VVxBijJEmoKArX9sYYYoy5/VEp9aefus/tsv2VJAmVZel9zpE2D70xhqqq+nNft6Ps45xz4pyTEOLQRurunCFN0xBjzFuq13VNdV17t+u7v/8cxpj3/cuydAPlp7Bh8pFSettDKUU/Pz/BW3/fmHKkT5KE8jx/ul9r7e13KSVlWfb0fM55sJ+Ifge1dwu7tXnoq6p6apx+6L++vohzTmVZep+/l6ZpRpdyaZo+7UBSyuCcPUmSl9+rbVvvYLJGmxyxllAUxWAgfZVPt/Lz3ZaE3g5C3W0YY4KDMefc2262n0Kvq+v6sH14jE1DH2pQIYQ7+tuyvvvvUeX9lKNpXddPpV+o7G6aJjhl6EvTlM7ns/tbCLHKEb5fbe2BMTb4vkKIxYPRlNDbdRU7sBtjiHMeDKjvKG/5Bn0ictPYd7Zp6KWUTw2qlKIsy7z3HzlXNcZQkiSTn2/XJ4Z23qZpRpd6Uko3mKy5Ay0NvTEmuAjrY4+GQwN40zSL5vZt29L9fqc8z72lvw/nnE6nk1tbCn0frfXgdEwI8VQ12DWpd7dp6G2jCSHocrlQURSDo+eR5qwC27nd2KP4GHYwybJs1R1obuiNMXS73dwAVNf1nylQ6BTc0Hy++9rQ4uYYr0r/0GvsYt6SEtxWDbbvm6b5mNOxu4S+f9/So45Sii6Xy6Tbqw7u78xjP8erEnYOO5isuRA05zMaYyjP86cKrHsGIbSjv5rPW68Ghi30p1BzZVlG5/P58Cp1qs1aXGvtbQil1KQyei9VVU0Khl2vKIpilR3IklK6o+SaFcSc0AshvMG1Z1uGtjt2MGSM7VoSCyFcab507chOxT7tPP5moffN54l+y6t3MyX0xhgXSNvxa5R2bdu67ZRlSafTaXIJWpalO8p2b2maeu8PHaHsOWrf97KXvobWKsbM560kSXZbuLVTFDuFWnqtgO37d16p99ksfaFFECnlonkc0e+i0pTbK2ND71vxTdOULpfLkq/0VCKGTt/NNfVIb9/fF2p7sUuoj8fM5629QtNfZPMtxE3FOX/bNaohm4U+VPIURbF4Dqy1diEde3u1Y0kpR438vktI7U4+t0y1Vyz2rTX3JJof+tC2hgbusfN5on3m9FLKp4qmvxA3R5qmq07B9rJJi2utvZ0eusLpHbxavbclvW/wsKXwnLmdUir4uu7pu6Wmht6Gos9ebTbUVmPn81rrxVXfK6Er/4jmT6GIPvu3FJuEvq5rd+7aGENaa7rf76v+0GILvp1cKUX3+53O57Nbqe2yVxSeTidijNH9fh91xJdS0u12I8YYXa9X73UL1+uVGGOU5zl9fX0tars51VVd167P7MKslNKFtXsu2xhDj8fDfafb7Ubf39+D25dSbrIIZvvkcrm4PulrmobyPHft/3g8Rm/78Xi4vrndbh9xbr5rs9AT/d9A9iq7dw67xTn3loGvzgXPPV/cvfX133dpG86dUtm1hv77289nGWO8l80O4ZxvsojX/yy+UPou952z7dD239mmof80bdt+3OmXsY66tDnEGPO2U71/3eqhP/qnsUtxzt/211H/kqqqPno/+WSrh/5Tj/LWmr/1Br+hxUvY3vtdJfMG7DXmsD7f/68A+0LoASKD0ANEBqEHiAxCDxAZhB4gMgg9QGQQeoDIIPQAkUHoASKD0ANEBqEHiAxCDxAZhB4gMgg9QGQQeoDIIPQAkUHoASKD0ANEBqEHiMx/FV+jt036RqYAAAAASUVORK5CYII=)\n",
    "\n",
    "## 2. Lasso regression \n",
    "La regression lasso optimise le probléme suivant 🇰\n",
    "\n",
    "![image.png](data:image/png;base64,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)"
   ]
  },
  {
   "cell_type": "code",
   "execution_count": 24,
   "metadata": {
    "colab": {
     "base_uri": "https://localhost:8080/",
     "height": 206
    },
    "executionInfo": {
     "elapsed": 28,
     "status": "ok",
     "timestamp": 1645278641806,
     "user": {
      "displayName": "DIA NDIAYE",
      "photoUrl": "https://lh3.googleusercontent.com/a/default-user=s64",
      "userId": "14376495217298928341"
     },
     "user_tz": -60
    },
    "id": "j9iIxtLiS3Wr",
    "outputId": "677f1874-599c-4f6f-822b-94ff3395ed57"
   },
   "outputs": [
    {
     "data": {
      "text/html": [
       "<div>\n",
       "<style scoped>\n",
       "    .dataframe tbody tr th:only-of-type {\n",
       "        vertical-align: middle;\n",
       "    }\n",
       "\n",
       "    .dataframe tbody tr th {\n",
       "        vertical-align: top;\n",
       "    }\n",
       "\n",
       "    .dataframe thead th {\n",
       "        text-align: right;\n",
       "    }\n",
       "</style>\n",
       "<table border=\"1\" class=\"dataframe\">\n",
       "  <thead>\n",
       "    <tr style=\"text-align: right;\">\n",
       "      <th></th>\n",
       "      <th>age</th>\n",
       "      <th>bmi</th>\n",
       "      <th>children</th>\n",
       "      <th>charges</th>\n",
       "      <th>male</th>\n",
       "      <th>yes</th>\n",
       "      <th>northeast</th>\n",
       "      <th>northwest</th>\n",
       "      <th>southeast</th>\n",
       "      <th>southwest</th>\n",
       "    </tr>\n",
       "  </thead>\n",
       "  <tbody>\n",
       "    <tr>\n",
       "      <th>0</th>\n",
       "      <td>19</td>\n",
       "      <td>27.900</td>\n",
       "      <td>0</td>\n",
       "      <td>16884.92400</td>\n",
       "      <td>0</td>\n",
       "      <td>1</td>\n",
       "      <td>0</td>\n",
       "      <td>0</td>\n",
       "      <td>0</td>\n",
       "      <td>1</td>\n",
       "    </tr>\n",
       "    <tr>\n",
       "      <th>1</th>\n",
       "      <td>18</td>\n",
       "      <td>33.770</td>\n",
       "      <td>1</td>\n",
       "      <td>1725.55230</td>\n",
       "      <td>1</td>\n",
       "      <td>0</td>\n",
       "      <td>0</td>\n",
       "      <td>0</td>\n",
       "      <td>1</td>\n",
       "      <td>0</td>\n",
       "    </tr>\n",
       "    <tr>\n",
       "      <th>2</th>\n",
       "      <td>28</td>\n",
       "      <td>33.000</td>\n",
       "      <td>3</td>\n",
       "      <td>4449.46200</td>\n",
       "      <td>1</td>\n",
       "      <td>0</td>\n",
       "      <td>0</td>\n",
       "      <td>0</td>\n",
       "      <td>1</td>\n",
       "      <td>0</td>\n",
       "    </tr>\n",
       "    <tr>\n",
       "      <th>3</th>\n",
       "      <td>33</td>\n",
       "      <td>22.705</td>\n",
       "      <td>0</td>\n",
       "      <td>21984.47061</td>\n",
       "      <td>1</td>\n",
       "      <td>0</td>\n",
       "      <td>0</td>\n",
       "      <td>1</td>\n",
       "      <td>0</td>\n",
       "      <td>0</td>\n",
       "    </tr>\n",
       "    <tr>\n",
       "      <th>4</th>\n",
       "      <td>32</td>\n",
       "      <td>28.880</td>\n",
       "      <td>0</td>\n",
       "      <td>3866.85520</td>\n",
       "      <td>1</td>\n",
       "      <td>0</td>\n",
       "      <td>0</td>\n",
       "      <td>1</td>\n",
       "      <td>0</td>\n",
       "      <td>0</td>\n",
       "    </tr>\n",
       "  </tbody>\n",
       "</table>\n",
       "</div>"
      ],
      "text/plain": [
       "   age     bmi  children      charges  male  yes  northeast  northwest  \\\n",
       "0   19  27.900         0  16884.92400     0    1          0          0   \n",
       "1   18  33.770         1   1725.55230     1    0          0          0   \n",
       "2   28  33.000         3   4449.46200     1    0          0          0   \n",
       "3   33  22.705         0  21984.47061     1    0          0          1   \n",
       "4   32  28.880         0   3866.85520     1    0          0          1   \n",
       "\n",
       "   southeast  southwest  \n",
       "0          0          1  \n",
       "1          1          0  \n",
       "2          1          0  \n",
       "3          0          0  \n",
       "4          0          0  "
      ]
     },
     "execution_count": 24,
     "metadata": {},
     "output_type": "execute_result"
    }
   ],
   "source": [
    "df = df.drop(['sex', 'smoker', 'region'], axis=1)\n",
    "df.head()"
   ]
  },
  {
   "cell_type": "code",
   "execution_count": 25,
   "metadata": {
    "executionInfo": {
     "elapsed": 26,
     "status": "ok",
     "timestamp": 1645278641807,
     "user": {
      "displayName": "DIA NDIAYE",
      "photoUrl": "https://lh3.googleusercontent.com/a/default-user=s64",
      "userId": "14376495217298928341"
     },
     "user_tz": -60
    },
    "id": "EsywtqJPS3Wr"
   },
   "outputs": [],
   "source": [
    "X=df.drop('charges', axis=1)  # independent variable\n",
    "y=df['charges'] # dependent variable"
   ]
  },
  {
   "cell_type": "code",
   "execution_count": 26,
   "metadata": {
    "executionInfo": {
     "elapsed": 26,
     "status": "ok",
     "timestamp": 1645278641808,
     "user": {
      "displayName": "DIA NDIAYE",
      "photoUrl": "https://lh3.googleusercontent.com/a/default-user=s64",
      "userId": "14376495217298928341"
     },
     "user_tz": -60
    },
    "id": "-hB7BOSAS3Wr"
   },
   "outputs": [],
   "source": [
    "# splitting the dataset into train_test_split\n",
    "from sklearn.model_selection import train_test_split\n",
    "X_train, X_test, y_train, y_test = train_test_split(X,y,test_size = 0.2)"
   ]
  },
  {
   "cell_type": "markdown",
   "metadata": {
    "id": "xyCLIgUAS3Wt"
   },
   "source": [
    "## Ridge Regression"
   ]
  },
  {
   "cell_type": "code",
   "execution_count": 39,
   "metadata": {
    "executionInfo": {
     "elapsed": 16,
     "status": "ok",
     "timestamp": 1645278642144,
     "user": {
      "displayName": "DIA NDIAYE",
      "photoUrl": "https://lh3.googleusercontent.com/a/default-user=s64",
      "userId": "14376495217298928341"
     },
     "user_tz": -60
    },
    "id": "WjQMMX82S3Wt"
   },
   "outputs": [],
   "source": [
    "from sklearn.preprocessing import StandardScaler # for feature scaling\n",
    "from sklearn.pipeline import Pipeline # for using pipeline\n",
    "from sklearn.linear_model import Ridge  # for ridege regression\n",
    "from sklearn.preprocessing import PolynomialFeatures\n",
    "from sklearn.model_selection import cross_val_score\n",
    "from sklearn.metrics import r2_score\n",
    "from sklearn.metrics import mean_squared_error,mean_absolute_error\n",
    "steps = [\n",
    "    ('scalar', StandardScaler()),\n",
    "    ('poly', PolynomialFeatures(degree=2)),\n",
    "    ('model', Ridge())\n",
    "]\n",
    "\n",
    "ridge_pipe = Pipeline(steps)"
   ]
  },
  {
   "cell_type": "code",
   "execution_count": 40,
   "metadata": {
    "executionInfo": {
     "elapsed": 17,
     "status": "ok",
     "timestamp": 1645278642145,
     "user": {
      "displayName": "DIA NDIAYE",
      "photoUrl": "https://lh3.googleusercontent.com/a/default-user=s64",
      "userId": "14376495217298928341"
     },
     "user_tz": -60
    },
    "id": "YfyHkRKqS3Wt"
   },
   "outputs": [],
   "source": [
    "# Applying Grid Search to find the best model and the best parameters\n",
    "\n",
    "from sklearn.model_selection import GridSearchCV  # for hypertuning\n",
    "\n",
    "parameters =  {  'model__alpha' : [43],\n",
    "                 'model__fit_intercept' : [True],\n",
    "                 'model__tol' : [0.0001],\n",
    "                 'model__solver' : ['auto'],## Optimisation\n",
    "                'model__random_state': [42] \n",
    "}\n",
    "\n",
    "regressor_ridge = GridSearchCV(ridge_pipe, parameters, cv=10)\n",
    "regressor_ridge = regressor_ridge.fit(X, y.ravel())"
   ]
  },
  {
   "cell_type": "code",
   "execution_count": 41,
   "metadata": {
    "colab": {
     "base_uri": "https://localhost:8080/"
    },
    "executionInfo": {
     "elapsed": 16,
     "status": "ok",
     "timestamp": 1645278642145,
     "user": {
      "displayName": "DIA NDIAYE",
      "photoUrl": "https://lh3.googleusercontent.com/a/default-user=s64",
      "userId": "14376495217298928341"
     },
     "user_tz": -60
    },
    "id": "qZKa---AS3Wt",
    "outputId": "8e9a0b84-4b8d-4bb6-b2ca-0da083f50c7c"
   },
   "outputs": [
    {
     "name": "stdout",
     "output_type": "stream",
     "text": [
      "0.8363491525351024\n",
      "{'model__alpha': 43, 'model__fit_intercept': True, 'model__random_state': 42, 'model__solver': 'auto', 'model__tol': 0.0001}\n"
     ]
    }
   ],
   "source": [
    "print(regressor_ridge.best_score_)\n",
    "print(regressor_ridge.best_params_)"
   ]
  },
  {
   "cell_type": "code",
   "execution_count": 42,
   "metadata": {
    "colab": {
     "base_uri": "https://localhost:8080/"
    },
    "executionInfo": {
     "elapsed": 14,
     "status": "ok",
     "timestamp": 1645278642146,
     "user": {
      "displayName": "DIA NDIAYE",
      "photoUrl": "https://lh3.googleusercontent.com/a/default-user=s64",
      "userId": "14376495217298928341"
     },
     "user_tz": -60
    },
    "id": "U-qX_jBmS3Wt",
    "outputId": "41b50a93-7ddc-4b07-94a7-df252e1f6bc6"
   },
   "outputs": [
    {
     "name": "stdout",
     "output_type": "stream",
     "text": [
      "CV:  0.8363491525351024\n",
      "R2_score (train):  0.8534897813307437\n",
      "R2_score (test):  0.823658468159339\n",
      "MAE: 3020.3438082148186\n",
      "RMSE:  5107.173302796819\n"
     ]
    }
   ],
   "source": [
    "# Predicting Cross Validation Score of the Test set\n",
    "cv_ridge = regressor_ridge.best_score_\n",
    "\n",
    "# Predicting R2 Score of the Train set \n",
    "y_pred_ridge_train = regressor_ridge.predict(X_train)\n",
    "r2_score_ridge_train = r2_score(y_train, y_pred_ridge_train)\n",
    "\n",
    "# Predicting R2 Score of the Test set\n",
    "y_pred_ridge_test = regressor_ridge.predict(X_test)\n",
    "r2_score_ridge_test = r2_score(y_test, y_pred_ridge_test)\n",
    "\n",
    "# Predicting MAE and RMSE of the Test set\n",
    "rmse_ridge = (np.sqrt(mean_squared_error(y_test, y_pred_ridge_test)))\n",
    "mae_ridge = mean_absolute_error(y_test, y_pred_ridge_test)\n",
    "\n",
    "# printing the results\n",
    "print('CV: ', cv_ridge.mean())\n",
    "print('R2_score (train): ', r2_score_ridge_train)\n",
    "print('R2_score (test): ', r2_score_ridge_test)\n",
    "print('MAE:', mae_ridge)\n",
    "print(\"RMSE: \", rmse_ridge)\n",
    "\n"
   ]
  },
  {
   "cell_type": "markdown",
   "metadata": {
    "id": "F7FRIVYdS3Wu"
   },
   "source": [
    "## Lasso Regression"
   ]
  },
  {
   "cell_type": "code",
   "execution_count": 43,
   "metadata": {
    "executionInfo": {
     "elapsed": 12,
     "status": "ok",
     "timestamp": 1645278642147,
     "user": {
      "displayName": "DIA NDIAYE",
      "photoUrl": "https://lh3.googleusercontent.com/a/default-user=s64",
      "userId": "14376495217298928341"
     },
     "user_tz": -60
    },
    "id": "U3o4KKwyS3Wu"
   },
   "outputs": [],
   "source": [
    "from sklearn.linear_model import Lasso  # for lasso regression\n",
    "\n",
    "steps = [\n",
    "    ('scalar', StandardScaler()),\n",
    "    ('poly', PolynomialFeatures(degree=2)),\n",
    "    ('model', Lasso())\n",
    "]\n",
    "\n",
    "lasso_pipe = Pipeline(steps)"
   ]
  },
  {
   "cell_type": "code",
   "execution_count": 44,
   "metadata": {
    "colab": {
     "base_uri": "https://localhost:8080/"
    },
    "executionInfo": {
     "elapsed": 1510,
     "status": "ok",
     "timestamp": 1645278643646,
     "user": {
      "displayName": "DIA NDIAYE",
      "photoUrl": "https://lh3.googleusercontent.com/a/default-user=s64",
      "userId": "14376495217298928341"
     },
     "user_tz": -60
    },
    "id": "RsdmOhgTS3Wu",
    "outputId": "a414acc8-ae71-43ff-f959-09df8a19de51"
   },
   "outputs": [
    {
     "name": "stdout",
     "output_type": "stream",
     "text": [
      "Fitting 10 folds for each of 1 candidates, totalling 10 fits\n"
     ]
    },
    {
     "name": "stderr",
     "output_type": "stream",
     "text": [
      "[Parallel(n_jobs=-1)]: Using backend LokyBackend with 8 concurrent workers.\n",
      "[Parallel(n_jobs=-1)]: Done   4 out of  10 | elapsed:    0.2s remaining:    0.4s\n",
      "[Parallel(n_jobs=-1)]: Done   7 out of  10 | elapsed:    0.3s remaining:    0.1s\n",
      "[Parallel(n_jobs=-1)]: Done  10 out of  10 | elapsed:    0.3s remaining:    0.0s\n",
      "[Parallel(n_jobs=-1)]: Done  10 out of  10 | elapsed:    0.3s finished\n"
     ]
    }
   ],
   "source": [
    "\n",
    "parameters =  {  'model__alpha' : [0.9949],\n",
    "                 'model__fit_intercept' : [True],\n",
    "                 'model__tol' : [0.0001],\n",
    "                 'model__max_iter' : [5000],\n",
    "                'model__random_state': [42] \n",
    "}\n",
    "regressor_lasso = GridSearchCV(lasso_pipe, parameters, cv=10, n_jobs = -1, verbose = 4)\n",
    "regressor_lasso = regressor_lasso.fit(X, y.ravel())"
   ]
  },
  {
   "cell_type": "code",
   "execution_count": 46,
   "metadata": {},
   "outputs": [
    {
     "name": "stdout",
     "output_type": "stream",
     "text": [
      "0.8362960263032919\n",
      "{'model__alpha': 0.9949, 'model__fit_intercept': True, 'model__max_iter': 5000, 'model__random_state': 42, 'model__tol': 0.0001}\n"
     ]
    }
   ],
   "source": [
    "print(regressor_lasso.best_score_)\n",
    "print(regressor_lasso.best_params_)"
   ]
  },
  {
   "cell_type": "code",
   "execution_count": 47,
   "metadata": {
    "colab": {
     "background_save": true,
     "base_uri": "https://localhost:8080/"
    },
    "executionInfo": {
     "elapsed": 26,
     "status": "ok",
     "timestamp": 1645278643648,
     "user": {
      "displayName": "DIA NDIAYE",
      "photoUrl": "https://lh3.googleusercontent.com/a/default-user=s64",
      "userId": "14376495217298928341"
     },
     "user_tz": -60
    },
    "id": "2arzchIfS3Wu"
   },
   "outputs": [
    {
     "name": "stdout",
     "output_type": "stream",
     "text": [
      "CV:  0.8362960263032919\n",
      "R2_score (train):  0.8535034125483336\n",
      "R2_score (test):  0.8251179958641167\n",
      "MAE: 2974.5084565075426\n",
      "RMSE:  5085.994092242372\n"
     ]
    }
   ],
   "source": [
    "# Predicting Cross Validation Score\n",
    "cv_lasso = regressor_lasso.best_score_\n",
    "\n",
    "# Predicting R2 Score of the Train set\n",
    "y_pred_lasso_train = regressor_lasso.predict(X_train)\n",
    "r2_score_lasso_train = r2_score(y_train, y_pred_lasso_train)\n",
    "\n",
    "# Predicting R2 Score of the Test set\n",
    "y_pred_lasso_test = regressor_lasso.predict(X_test)\n",
    "r2_score_lasso_test = r2_score(y_test, y_pred_lasso_test)\n",
    "\n",
    "# Predicting MAE and RMSE pf the Test set\n",
    "rmse_lasso = (np.sqrt(mean_squared_error(y_test, y_pred_lasso_test)))\n",
    "mae_lasso = mean_absolute_error(y_test, y_pred_lasso_test)\n",
    "\n",
    "# printing the results\n",
    "print('CV: ', cv_lasso.mean())\n",
    "print('R2_score (train): ', r2_score_lasso_train)\n",
    "print('R2_score (test): ', r2_score_lasso_test)\n",
    "print('MAE:', mae_lasso)\n",
    "print(\"RMSE: \", rmse_lasso)\n"
   ]
  },
  {
   "cell_type": "code",
   "execution_count": 48,
   "metadata": {
    "colab": {
     "background_save": true
    },
    "executionInfo": {
     "elapsed": 19,
     "status": "ok",
     "timestamp": 1645278643651,
     "user": {
      "displayName": "DIA NDIAYE",
      "photoUrl": "https://lh3.googleusercontent.com/a/default-user=s64",
      "userId": "14376495217298928341"
     },
     "user_tz": -60
    },
    "id": "dWWkyWmmS3Wx"
   },
   "outputs": [],
   "source": [
    "models = [\n",
    "          ('Ridge Regression', rmse_ridge, r2_score_ridge_train, r2_score_ridge_test, cv_ridge.mean()),\n",
    "          ('Lasso Regression', rmse_lasso, r2_score_lasso_train, r2_score_lasso_test, cv_lasso.mean())  \n",
    "         ]"
   ]
  },
  {
   "cell_type": "code",
   "execution_count": 49,
   "metadata": {
    "colab": {
     "background_save": true,
     "base_uri": "https://localhost:8080/",
     "height": 174
    },
    "executionInfo": {
     "elapsed": 18,
     "status": "ok",
     "timestamp": 1645278643653,
     "user": {
      "displayName": "DIA NDIAYE",
      "photoUrl": "https://lh3.googleusercontent.com/a/default-user=s64",
      "userId": "14376495217298928341"
     },
     "user_tz": -60
    },
    "id": "R-8J9-c3S3Wx"
   },
   "outputs": [
    {
     "data": {
      "text/html": [
       "<div>\n",
       "<style scoped>\n",
       "    .dataframe tbody tr th:only-of-type {\n",
       "        vertical-align: middle;\n",
       "    }\n",
       "\n",
       "    .dataframe tbody tr th {\n",
       "        vertical-align: top;\n",
       "    }\n",
       "\n",
       "    .dataframe thead th {\n",
       "        text-align: right;\n",
       "    }\n",
       "</style>\n",
       "<table border=\"1\" class=\"dataframe\">\n",
       "  <thead>\n",
       "    <tr style=\"text-align: right;\">\n",
       "      <th></th>\n",
       "      <th>Model</th>\n",
       "      <th>RMSE</th>\n",
       "      <th>R2_Score(training)</th>\n",
       "      <th>R2_Score(test)</th>\n",
       "      <th>Cross-Validation</th>\n",
       "    </tr>\n",
       "  </thead>\n",
       "  <tbody>\n",
       "    <tr>\n",
       "      <th>0</th>\n",
       "      <td>Ridge Regression</td>\n",
       "      <td>5107.173303</td>\n",
       "      <td>0.853490</td>\n",
       "      <td>0.823658</td>\n",
       "      <td>0.836349</td>\n",
       "    </tr>\n",
       "    <tr>\n",
       "      <th>1</th>\n",
       "      <td>Lasso Regression</td>\n",
       "      <td>5085.994092</td>\n",
       "      <td>0.853503</td>\n",
       "      <td>0.825118</td>\n",
       "      <td>0.836296</td>\n",
       "    </tr>\n",
       "  </tbody>\n",
       "</table>\n",
       "</div>"
      ],
      "text/plain": [
       "              Model         RMSE  R2_Score(training)  R2_Score(test)  \\\n",
       "0  Ridge Regression  5107.173303            0.853490        0.823658   \n",
       "1  Lasso Regression  5085.994092            0.853503        0.825118   \n",
       "\n",
       "   Cross-Validation  \n",
       "0          0.836349  \n",
       "1          0.836296  "
      ]
     },
     "execution_count": 49,
     "metadata": {},
     "output_type": "execute_result"
    }
   ],
   "source": [
    "predict = pd.DataFrame(data = models, columns=['Model', 'RMSE', 'R2_Score(training)', 'R2_Score(test)', 'Cross-Validation'])\n",
    "predict"
   ]
  },
  {
   "cell_type": "markdown",
   "metadata": {
    "id": "xs2Yh23ES3Wx"
   },
   "source": [
    "### Visualizing model performance"
   ]
  },
  {
   "cell_type": "code",
   "execution_count": 50,
   "metadata": {
    "colab": {
     "background_save": true,
     "base_uri": "https://localhost:8080/",
     "height": 365
    },
    "executionInfo": {
     "elapsed": 12,
     "status": "ok",
     "timestamp": 1645278644065,
     "user": {
      "displayName": "DIA NDIAYE",
      "photoUrl": "https://lh3.googleusercontent.com/a/default-user=s64",
      "userId": "14376495217298928341"
     },
     "user_tz": -60
    },
    "id": "r8rDgvfCS3Wy"
   },
   "outputs": [
    {
     "data": {
      "image/png": "[encoded data removed]",
      "text/plain": [
       "<Figure size 1296x432 with 1 Axes>"
      ]
     },
     "metadata": {},
     "output_type": "display_data"
    }
   ],
   "source": [
    "# comaprison of cross-validation between the models\n",
    "\n",
    "f, axe = plt.subplots(1,1, figsize=(18,6))\n",
    "\n",
    "predict.sort_values(by=['Cross-Validation'], ascending=False, inplace=True)\n",
    "\n",
    "sns.barplot(x='Cross-Validation', y='Model', data = predict, ax = axe, palette='viridis')\n",
    "\n",
    "axe.set_xlabel('Cross-Validaton Score', size=16)\n",
    "axe.set_ylabel('Model')\n",
    "axe.set_xlim(0,1.0)\n",
    "axe.set_xticks(np.arange(0, 1.1, 0.1))\n",
    "plt.title('Cross_validation of the Models')\n",
    "plt.show()"
   ]
  },
  {
   "cell_type": "code",
   "execution_count": 51,
   "metadata": {
    "colab": {
     "background_save": true,
     "base_uri": "https://localhost:8080/",
     "height": 829
    },
    "executionInfo": {
     "elapsed": 2091,
     "status": "ok",
     "timestamp": 1645278646147,
     "user": {
      "displayName": "DIA NDIAYE",
      "photoUrl": "https://lh3.googleusercontent.com/a/default-user=s64",
      "userId": "14376495217298928341"
     },
     "user_tz": -60
    },
    "id": "9sTYlBG8S3Wy"
   },
   "outputs": [
    {
     "data": {
      "text/plain": [
       "Text(0.5, 0, 'Predict')"
      ]
     },
     "execution_count": 51,
     "metadata": {},
     "output_type": "execute_result"
    },
    {
     "data": {
      "image/png": "[encoded data removed]",
      "text/plain": [
       "<Figure size 1440x864 with 6 Axes>"
      ]
     },
     "metadata": {},
     "output_type": "display_data"
    }
   ],
   "source": [
    "# comparison of R-square between the models\n",
    "fig, ax = plt.subplots(2,3, figsize=(20,12))\n",
    "\n",
    "\n",
    "\n",
    "sns.set_style('dark')\n",
    "h = sns.scatterplot(y_test, y_pred_ridge_test, ax=ax[0,2], color='blue')\n",
    "h.set_title('Ridge Regression')\n",
    "h.set_xlabel('Predict')\n",
    "\n",
    "\n",
    "sns.set_style('dark')\n",
    "h = sns.scatterplot(y_test, y_pred_lasso_test, ax=ax[1,0], color='cyan')\n",
    "h.set_title('Lasso Regression')\n",
    "h.set_xlabel('Predict')\n"
   ]
  },
  {
   "cell_type": "code",
   "execution_count": 52,
   "metadata": {
    "colab": {
     "background_save": true,
     "base_uri": "https://localhost:8080/",
     "height": 429
    },
    "executionInfo": {
     "elapsed": 674,
     "status": "ok",
     "timestamp": 1645278646811,
     "user": {
      "displayName": "DIA NDIAYE",
      "photoUrl": "https://lh3.googleusercontent.com/a/default-user=s64",
      "userId": "14376495217298928341"
     },
     "user_tz": -60
    },
    "id": "bxbRzMM9S3Wy"
   },
   "outputs": [
    {
     "data": {
      "image/png": "[encoded data removed]",
      "text/plain": [
       "<Figure size 1296x432 with 1 Axes>"
      ]
     },
     "metadata": {},
     "output_type": "display_data"
    }
   ],
   "source": [
    "# comparison of RMSE between the models\n",
    "\n",
    "predict.sort_values(by=['RMSE'], ascending=False, inplace=True)\n",
    "\n",
    "f, axe = plt.subplots(1,1, figsize=(18,6))\n",
    "sns.barplot(x='Model', y='RMSE', data=predict, ax = axe)\n",
    "axe.set_xlabel('Model', size=16)\n",
    "axe.set_ylabel('RMSE', size=16)\n",
    "plt.title('RMSE of the Regression models')\n",
    "plt.show()"
   ]
  },
  {
   "cell_type": "code",
   "execution_count": null,
   "metadata": {
    "colab": {
     "background_save": true
    },
    "executionInfo": {
     "elapsed": 90,
     "status": "ok",
     "timestamp": 1645278646821,
     "user": {
      "displayName": "DIA NDIAYE",
      "photoUrl": "https://lh3.googleusercontent.com/a/default-user=s64",
      "userId": "14376495217298928341"
     },
     "user_tz": -60
    },
    "id": "GFpTyWEYS3Wy"
   },
   "outputs": [],
   "source": []
  },
  {
   "cell_type": "code",
   "execution_count": null,
   "metadata": {
    "colab": {
     "background_save": true
    },
    "executionInfo": {
     "elapsed": 87,
     "status": "ok",
     "timestamp": 1645278646826,
     "user": {
      "displayName": "DIA NDIAYE",
      "photoUrl": "https://lh3.googleusercontent.com/a/default-user=s64",
      "userId": "14376495217298928341"
     },
     "user_tz": -60
    },
    "id": "es7vuLn9NyN-"
   },
   "outputs": [],
   "source": []
  }
 ],
 "metadata": {
  "colab": {
   "collapsed_sections": [],
   "name": "Cours5_ML_regression_analysis.ipynb",
   "version": ""
  },
  "kernelspec": {
   "display_name": "Python 3",
   "language": "python",
   "name": "python3"
  },
  "language_info": {
   "codemirror_mode": {
    "name": "ipython",
    "version": 3
   },
   "file_extension": ".py",
   "mimetype": "text/x-python",
   "name": "python",
   "nbconvert_exporter": "python",
   "pygments_lexer": "ipython3",
   "version": "3.7.6"
  }
 },
 "nbformat": 4,
 "nbformat_minor": 1
}
